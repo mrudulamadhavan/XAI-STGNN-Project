{
 "cells": [
  {
   "cell_type": "markdown",
   "metadata": {},
   "source": [
    "<center>\n",
    "    <h1>Verbal Explanation of Spatial Temporal GNNs for Traffic Forecasting</h1>\n",
    "    <h2>Fetching the Nodes Locations on the PeMS-Bay Dataset</h2>\n",
    "</center>\n",
    "\n",
    "---\n",
    "\n",
    "In this notebook the street and kilometrage of each node in the dataset are fetched.\n",
    "\n",
    "Note: the extraction of the geolocation of the nodes is not deterministic, refer to [link](../data/pems-bay/structured/node_locations.pkl) for the nodes streets and kilometrages extracted for the experiment."
   ]
  },
  {
   "cell_type": "code",
   "execution_count": 1,
   "metadata": {},
   "outputs": [],
   "source": [
    "import sys\n",
    "import os\n",
    "\n",
    "# Set the main path in the root folder of the project.\n",
    "sys.path.append(os.path.join('..'))"
   ]
  },
  {
   "cell_type": "code",
   "execution_count": 2,
   "metadata": {},
   "outputs": [],
   "source": [
    "# Settings for autoreloading.\n",
    "%load_ext autoreload\n",
    "%autoreload 2"
   ]
  },
  {
   "cell_type": "code",
   "execution_count": 3,
   "metadata": {},
   "outputs": [],
   "source": [
    "from src.utils.seed import set_random_seed\n",
    "\n",
    "# Set the random seed for deterministic operations.\n",
    "SEED = 42\n",
    "set_random_seed(SEED)"
   ]
  },
  {
   "attachments": {},
   "cell_type": "markdown",
   "metadata": {},
   "source": [
    "# 1 Loading the Data\n",
    "In this section the data is loaded"
   ]
  },
  {
   "cell_type": "code",
   "execution_count": 5,
   "metadata": {},
   "outputs": [],
   "source": [
    "import os\n",
    "\n",
    "BASE_DATA_DIR = os.path.join('..', 'data', 'pems-bay')"
   ]
  },
  {
   "cell_type": "code",
   "execution_count": 7,
   "metadata": {},
   "outputs": [],
   "source": [
    "from src.data.data_extraction import get_adjacency_matrix\n",
    "\n",
    "# Get the adjacency matrix\n",
    "adj_matrix_structure = get_adjacency_matrix(\n",
    "    os.path.join(BASE_DATA_DIR, 'raw', 'adj_mx_pems_bay.pkl'))\n",
    "\n",
    "# Get the header of the adjacency matrix, the node indices and the\n",
    "# matrix itself.\n",
    "header, node_ids_dict, adj_matrix = adj_matrix_structure"
   ]
  },
  {
   "cell_type": "code",
   "execution_count": 8,
   "metadata": {},
   "outputs": [],
   "source": [
    "from src.data.data_extraction import get_locations_dataframe\n",
    "\n",
    "# Get the dataframe containing the latitude and longitude of each sensor.\n",
    "locations_df = get_locations_dataframe(\n",
    "    os.path.join(BASE_DATA_DIR, 'raw', 'graph_sensor_locations_pems_bay.csv'),\n",
    "    has_header=False)"
   ]
  },
  {
   "cell_type": "code",
   "execution_count": 9,
   "metadata": {},
   "outputs": [],
   "source": [
    "# Get the node positions dictionary.\n",
    "node_pos_dict = { i: id for id, i in node_ids_dict.items() }"
   ]
  },
  {
   "cell_type": "markdown",
   "metadata": {},
   "source": [
    "# 2 Fetch the Nodes Locations and Kilometrage\n",
    "In this section the node locations and kilometrages is fetched."
   ]
  },
  {
   "cell_type": "markdown",
   "metadata": {},
   "source": [
    "# 2.1 Fetch the Nodes Roads\n",
    "The roads of the nodes are fetched by geopy according to their latitude and longitude."
   ]
  },
  {
   "cell_type": "code",
   "execution_count": 12,
   "metadata": {},
   "outputs": [],
   "source": [
    "from geopy.geocoders import Nominatim\n",
    "from geopy.extra.rate_limiter import RateLimiter\n",
    "\n",
    "geocoder = Nominatim(user_agent='pems-bay')\n",
    "\n",
    "geocode = RateLimiter(\n",
    "    geocoder.geocode,\n",
    "    min_delay_seconds=.05,\n",
    "    return_value_on_exception=None)"
   ]
  },
  {
   "cell_type": "code",
   "execution_count": 13,
   "metadata": {},
   "outputs": [],
   "source": [
    "import pandas as pd\n",
    "\n",
    "def get_road(row: pd.Series) -> str:\n",
    "    data = geocoder.reverse((row['latitude'], row['longitude'])).raw\n",
    "    road = data['address']['road']\n",
    "    return road"
   ]
  },
  {
   "cell_type": "code",
   "execution_count": 14,
   "metadata": {},
   "outputs": [],
   "source": [
    "locations_df['road'] = locations_df.apply(get_road, axis=1)"
   ]
  },
  {
   "cell_type": "code",
   "execution_count": 15,
   "metadata": {},
   "outputs": [
    {
     "data": {
      "text/plain": [
       "{'Almaden Expressway',\n",
       " 'Bayshore Freeway',\n",
       " 'CA 17',\n",
       " 'CA 85',\n",
       " 'Curtner Avenue',\n",
       " 'Guadalupe Freeway',\n",
       " 'Guadalupe Parkway',\n",
       " 'Highway 87 Bikeway',\n",
       " 'Hillsdale Avenue',\n",
       " 'I 280',\n",
       " 'I 880',\n",
       " 'Junipero Serra Freeway',\n",
       " 'Mill Pond Drive',\n",
       " 'Nimitz Freeway',\n",
       " 'North Bascom Avenue',\n",
       " 'North Shoreline Boulevard',\n",
       " 'Santa Teresa Boulevard',\n",
       " 'Sinclair Freeway',\n",
       " 'Southbay Freeway',\n",
       " 'Story Road',\n",
       " 'West Julian Street',\n",
       " 'West Valley Freeway'}"
      ]
     },
     "execution_count": 15,
     "metadata": {},
     "output_type": "execute_result"
    }
   ],
   "source": [
    "set(road for road in locations_df['road'].values)"
   ]
  },
  {
   "attachments": {},
   "cell_type": "markdown",
   "metadata": {},
   "source": [
    "Fixing wrong assignment of coordinates"
   ]
  },
  {
   "cell_type": "code",
   "execution_count": 21,
   "metadata": {},
   "outputs": [
    {
     "name": "stdout",
     "output_type": "stream",
     "text": [
      "Curtner Avenue: coordinates (37.294949, -121.873109)\n",
      "Almaden Expressway: coordinates (37.255791, -121.875479)\n",
      "North Shoreline Boulevard: coordinates (37.4118, -122.077964)\n",
      "Mill Pond Drive: coordinates (37.291715, -121.871799)\n",
      "Highway 87 Bikeway: coordinates (37.26198, -121.858479)\n",
      "Mill Pond Drive: coordinates (37.291828, -121.871836)\n",
      "North Bascom Avenue: coordinates (37.334602, -121.936288)\n",
      "Story Road: coordinates (37.336089, -121.848437)\n",
      "Hillsdale Avenue: coordinates (37.279515, -121.864784)\n",
      "Santa Teresa Boulevard: coordinates (37.255657, -121.858984)\n",
      "Hillsdale Avenue: coordinates (37.279628, -121.864838)\n",
      "West Julian Street: coordinates (37.337137, -121.897741)\n",
      "Highway 87 Bikeway: coordinates (37.262704, -121.858533)\n"
     ]
    }
   ],
   "source": [
    "for row in locations_df.itertuples():\n",
    "    if row.road in [\n",
    "        'Story Road',\n",
    "        'Almaden Expressway',\n",
    "        'North Shoreline Boulevard',\n",
    "        'West Julian Street',\n",
    "        'Highway 87 Bikeway',\n",
    "        'Santa Teresa Boulevard',\n",
    "        'Curtner Avenue',\n",
    "        'North Bascom Avenue',\n",
    "        'Hillsdale Avenue',\n",
    "        'Mill Pond Drive']:\n",
    "        print(f'{row.road}:',\n",
    "              'coordinates', \n",
    "              f'({row.latitude}, {row.longitude})')"
   ]
  },
  {
   "attachments": {},
   "cell_type": "markdown",
   "metadata": {},
   "source": [
    "By searching these coordinates, it can be observed that they actually refer to specific highways, hence we manually change this wrongly assigned reference"
   ]
  },
  {
   "cell_type": "code",
   "execution_count": 38,
   "metadata": {},
   "outputs": [],
   "source": [
    "import pandas as pd\n",
    "\n",
    "\n",
    "def change_road_name(row: pd.Series) -> str:\n",
    "    if row['road'] == 'Story Road':\n",
    "        return 'Bayshore Freeway'\n",
    "\n",
    "    elif row['road'] == 'Almaden Expressway':\n",
    "        return 'West Valley Freeway'\n",
    "\n",
    "    elif row['road'] == 'North Shoreline Boulevard':\n",
    "        return 'Bayshore Freeway'\n",
    "    \n",
    "    elif row['road'] == 'West Julian Street':\n",
    "        return 'Guadalupe Parkway'\n",
    "\n",
    "    elif row['road'] == 'Highway 87 Bikeway':\n",
    "        return 'Guadalupe Parkway'\n",
    "\n",
    "    elif row['road'] == 'Santa Teresa Boulevard':\n",
    "        return 'West Valley Freeway'\n",
    "\n",
    "    elif row['road'] == 'Curtner Avenue':\n",
    "        return 'Guadalupe Parkway'\n",
    "\n",
    "    elif row['road'] == 'North Bascom Avenue':\n",
    "        return 'I 880'\n",
    "\n",
    "    elif row['road'] == 'Hillsdale Avenue':\n",
    "        return 'Guadalupe Parkway'\n",
    "\n",
    "    elif row['road'] == 'Mill Pond Drive':\n",
    "        return 'Guadalupe Parkway'\n",
    "\n",
    "    elif row['road'] == 'Guadalupe Freeway':\n",
    "        return 'Guadalupe Parkway'\n",
    "    \n",
    "    elif row['road'] == 'Nimitz Freeway':\n",
    "        return 'I 880'\n",
    "    \n",
    "    elif row['road'] == 'Junipero Serra Freeway':\n",
    "        return 'I 280'\n",
    "\n",
    "    return row['road']"
   ]
  },
  {
   "cell_type": "code",
   "execution_count": 39,
   "metadata": {},
   "outputs": [],
   "source": [
    "locations_df['road'] = locations_df.apply(change_road_name, axis=1)"
   ]
  },
  {
   "cell_type": "code",
   "execution_count": 40,
   "metadata": {},
   "outputs": [
    {
     "data": {
      "text/plain": [
       "{'Bayshore Freeway',\n",
       " 'CA 17',\n",
       " 'CA 85',\n",
       " 'Guadalupe Parkway',\n",
       " 'I 280',\n",
       " 'I 880',\n",
       " 'Sinclair Freeway',\n",
       " 'Southbay Freeway',\n",
       " 'West Valley Freeway'}"
      ]
     },
     "execution_count": 40,
     "metadata": {},
     "output_type": "execute_result"
    }
   ],
   "source": [
    "set(road for road in locations_df['road'].values)"
   ]
  },
  {
   "attachments": {},
   "cell_type": "markdown",
   "metadata": {},
   "source": [
    "## 2.2 Get the Road Beginnings\n",
    "\n",
    "In order to get the kilometrages of the nodes, the road beginnings are computed from [ArcGIS official website](https://www.arcgis.com/home/webmap/viewer.html?featurecollection=https%3A%2F%2Fgeo.dot.gov%2Fserver%2Frest%2Fservices%2FHosted%2FCalifornia_2018_PR%2FFeatureServer%3Ff%3Djson%26option%3Dfootprints&supportsProjection=true&supportsJSONP=true)"
   ]
  },
  {
   "cell_type": "code",
   "execution_count": 41,
   "metadata": {},
   "outputs": [],
   "source": [
    "road_beginnings = {\n",
    "    'Bayshore Freeway': (37.767128809088646, -122.40547364738181),\n",
    "    'CA 17': (37.32030129169095, -121.9404749990039),\n",
    "    'CA 85': (37.40459857894696, -122.06998937731801),\n",
    "    'Guadalupe Parkway': (37.36982274309332, -121.92638659077168),\n",
    "    'I 280': (37.7721327422648, -122.3980151051885),\n",
    "    'I 880': (37.814745629742546, -122.3008290731509),\n",
    "    'Sinclair Freeway': (37.463262229915564, -121.90336058919574),\n",
    "    'Southbay Freeway': (37.38038205127383, -122.07299188639912),\n",
    "    'West Valley Freeway': (37.40516281598811, -122.06996550808908),\n",
    "    }"
   ]
  },
  {
   "cell_type": "markdown",
   "metadata": {},
   "source": [
    "## 2.3 Get Nodes Kilometrages and Save Results\n",
    "Finally, the kilometrage of the nodes is computed by their distance from the coordinates of the beginnings of the roads.\n",
    "\n",
    "For each node a dictionary is computed containing a tuple with the name of the road it is part of and its kilometrage on the road."
   ]
  },
  {
   "cell_type": "code",
   "execution_count": 42,
   "metadata": {},
   "outputs": [],
   "source": [
    "import pandas as pd\n",
    "from geopy.distance import distance\n",
    "\n",
    "\n",
    "def get_kilometrage(\n",
    "    row: pd.Series,\n",
    "    ) -> float:\n",
    "    road = row['road']\n",
    "    road_beginning_coordinates = road_beginnings[road]\n",
    "    coordinates = (row['latitude'], row['longitude'])\n",
    "    return distance(road_beginning_coordinates, coordinates).km"
   ]
  },
  {
   "cell_type": "code",
   "execution_count": 43,
   "metadata": {},
   "outputs": [],
   "source": [
    "locations_df['kilometrage'] = locations_df.apply(get_kilometrage, axis=1)"
   ]
  },
  {
   "cell_type": "code",
   "execution_count": 44,
   "metadata": {},
   "outputs": [
    {
     "data": {
      "text/html": [
       "<div>\n",
       "<style scoped>\n",
       "    .dataframe tbody tr th:only-of-type {\n",
       "        vertical-align: middle;\n",
       "    }\n",
       "\n",
       "    .dataframe tbody tr th {\n",
       "        vertical-align: top;\n",
       "    }\n",
       "\n",
       "    .dataframe thead th {\n",
       "        text-align: right;\n",
       "    }\n",
       "</style>\n",
       "<table border=\"1\" class=\"dataframe\">\n",
       "  <thead>\n",
       "    <tr style=\"text-align: right;\">\n",
       "      <th></th>\n",
       "      <th>sensor_id</th>\n",
       "      <th>latitude</th>\n",
       "      <th>longitude</th>\n",
       "      <th>road</th>\n",
       "      <th>kilometrage</th>\n",
       "    </tr>\n",
       "    <tr>\n",
       "      <th>index</th>\n",
       "      <th></th>\n",
       "      <th></th>\n",
       "      <th></th>\n",
       "      <th></th>\n",
       "      <th></th>\n",
       "    </tr>\n",
       "  </thead>\n",
       "  <tbody>\n",
       "    <tr>\n",
       "      <th>0</th>\n",
       "      <td>400001</td>\n",
       "      <td>37.364085</td>\n",
       "      <td>-121.901149</td>\n",
       "      <td>Bayshore Freeway</td>\n",
       "      <td>63.136920</td>\n",
       "    </tr>\n",
       "    <tr>\n",
       "      <th>1</th>\n",
       "      <td>400017</td>\n",
       "      <td>37.253303</td>\n",
       "      <td>-121.945440</td>\n",
       "      <td>West Valley Freeway</td>\n",
       "      <td>20.145852</td>\n",
       "    </tr>\n",
       "    <tr>\n",
       "      <th>2</th>\n",
       "      <td>400030</td>\n",
       "      <td>37.359087</td>\n",
       "      <td>-121.906538</td>\n",
       "      <td>I 880</td>\n",
       "      <td>61.403403</td>\n",
       "    </tr>\n",
       "    <tr>\n",
       "      <th>3</th>\n",
       "      <td>400040</td>\n",
       "      <td>37.294949</td>\n",
       "      <td>-121.873109</td>\n",
       "      <td>Guadalupe Parkway</td>\n",
       "      <td>9.557508</td>\n",
       "    </tr>\n",
       "    <tr>\n",
       "      <th>4</th>\n",
       "      <td>400045</td>\n",
       "      <td>37.363402</td>\n",
       "      <td>-121.902233</td>\n",
       "      <td>I 880</td>\n",
       "      <td>61.226829</td>\n",
       "    </tr>\n",
       "  </tbody>\n",
       "</table>\n",
       "</div>"
      ],
      "text/plain": [
       "      sensor_id   latitude   longitude                 road  kilometrage\n",
       "index                                                                   \n",
       "0        400001  37.364085 -121.901149     Bayshore Freeway    63.136920\n",
       "1        400017  37.253303 -121.945440  West Valley Freeway    20.145852\n",
       "2        400030  37.359087 -121.906538                I 880    61.403403\n",
       "3        400040  37.294949 -121.873109    Guadalupe Parkway     9.557508\n",
       "4        400045  37.363402 -121.902233                I 880    61.226829"
      ]
     },
     "execution_count": 44,
     "metadata": {},
     "output_type": "execute_result"
    }
   ],
   "source": [
    "locations_df.head()"
   ]
  },
  {
   "cell_type": "code",
   "execution_count": 45,
   "metadata": {},
   "outputs": [],
   "source": [
    "road_locations = {}\n",
    "\n",
    "for row in locations_df.itertuples():\n",
    "    node_id = row.sensor_id\n",
    "    road = row.road\n",
    "    kilometrage = row.kilometrage\n",
    "    road_locations[node_id] = (road, kilometrage)"
   ]
  },
  {
   "cell_type": "code",
   "execution_count": 47,
   "metadata": {},
   "outputs": [],
   "source": [
    "import os\n",
    "import pickle\n",
    "\n",
    "os.makedirs(os.path.join(BASE_DATA_DIR, 'structured'), exist_ok=True)\n",
    "\n",
    "with open(\n",
    "      os.path.join(BASE_DATA_DIR, 'structured', 'node_locations.pkl'), \n",
    "      'wb') as f:\n",
    "    pickle.dump(road_locations, f)"
   ]
  }
 ],
 "metadata": {
  "kernelspec": {
   "display_name": "Python 3",
   "language": "python",
   "name": "python3"
  },
  "language_info": {
   "codemirror_mode": {
    "name": "ipython",
    "version": 3
   },
   "file_extension": ".py",
   "mimetype": "text/x-python",
   "name": "python",
   "nbconvert_exporter": "python",
   "pygments_lexer": "ipython3",
   "version": "3.10.0"
  },
  "orig_nbformat": 4
 },
 "nbformat": 4,
 "nbformat_minor": 2
}
