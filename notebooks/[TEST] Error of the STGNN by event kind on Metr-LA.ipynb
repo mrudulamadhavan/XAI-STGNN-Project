{
  "cells": [
    {
      "cell_type": "markdown",
      "metadata": {},
      "source": [
        "<center>\n",
        "    <h1>Verbal Explanation of Spatial Temporal GNNs for Traffic Forecasting</h1>\n",
        "    <h2>[TEST] Error of the STGNN by event kind on Metr-LA</h2>\n",
        "</center>\n",
        "\n",
        "---\n",
        "\n",
        "In this notebook the predictions of the *STGNN* on the *Metr-LA* dataset are tested on different event kinds."
      ]
    },
    {
      "cell_type": "code",
      "execution_count": 1,
      "metadata": {
        "id": "vLMMte_HKFqA"
      },
      "outputs": [],
      "source": [
        "import sys\n",
        "import os\n",
        "\n",
        "# Set the main path in the root folder of the project.\n",
        "sys.path.append(os.path.join('..'))"
      ]
    },
    {
      "cell_type": "code",
      "execution_count": 2,
      "metadata": {
        "id": "HnmplGx2KFqD"
      },
      "outputs": [],
      "source": [
        "# Settings for autoreloading.\n",
        "%load_ext autoreload\n",
        "%autoreload 2"
      ]
    },
    {
      "cell_type": "code",
      "execution_count": 3,
      "metadata": {
        "id": "BVThP1k1KFqD"
      },
      "outputs": [],
      "source": [
        "from src.utils.seed import set_random_seed\n",
        "\n",
        "# Set the random seed for deterministic operations.\n",
        "SEED = 42\n",
        "set_random_seed(SEED)"
      ]
    },
    {
      "cell_type": "code",
      "execution_count": 4,
      "metadata": {
        "colab": {
          "base_uri": "https://localhost:8080/"
        },
        "id": "E9lFKnFUKFqE",
        "outputId": "325c9a3f-fb58-4e6f-a50d-53b544763d67"
      },
      "outputs": [
        {
          "name": "stdout",
          "output_type": "stream",
          "text": [
            "The selected device is: \"cuda\"\n"
          ]
        }
      ],
      "source": [
        "import torch\n",
        "\n",
        "# Set the device for training and querying the model.\n",
        "DEVICE = 'cuda' if torch.cuda.is_available() else 'cpu'\n",
        "print(f'The selected device is: \"{DEVICE}\"')"
      ]
    },
    {
      "cell_type": "markdown",
      "metadata": {
        "id": "WkJzAnB5KFqF"
      },
      "source": [
        "# 1 Loading the Data\n",
        "In this section the data is loaded."
      ]
    },
    {
      "cell_type": "code",
      "execution_count": 5,
      "metadata": {
        "id": "sLOMzmxnKFqG"
      },
      "outputs": [],
      "source": [
        "import os\n",
        "\n",
        "BASE_DATA_DIR = os.path.join('..', 'data', 'metr-la')"
      ]
    },
    {
      "cell_type": "code",
      "execution_count": 6,
      "metadata": {
        "id": "7xeJlGK_KFqG"
      },
      "outputs": [],
      "source": [
        "import pickle\n",
        "with open(os.path.join(BASE_DATA_DIR, 'processed', 'scaler.pkl'), 'rb') as f:\n",
        "    scaler = pickle.load(f)"
      ]
    },
    {
      "cell_type": "code",
      "execution_count": 7,
      "metadata": {
        "id": "q9OqSPOJKFqH"
      },
      "outputs": [],
      "source": [
        "from src.spatial_temporal_gnn.model import SpatialTemporalGNN\n",
        "from src.data.data_extraction import get_adjacency_matrix\n",
        "\n",
        "# Get the adjacency matrix\n",
        "adj_matrix_structure = get_adjacency_matrix(\n",
        "    os.path.join(BASE_DATA_DIR, 'raw', 'adj_mx_metr_la.pkl'))\n",
        "\n",
        "# Get the header of the adjacency matrix, the node indices and the\n",
        "# matrix itself.\n",
        "header, node_ids_dict, adj_matrix = adj_matrix_structure\n",
        "\n",
        "# Get the STGNN and load the checkpoints.\n",
        "spatial_temporal_gnn = SpatialTemporalGNN(9, 1, 12, 12, adj_matrix, DEVICE, 64)\n",
        "\n",
        "stgnn_checkpoints_path = os.path.join('..', 'models', 'checkpoints',\n",
        "                                      'st_gnn_metr_la.pth')\n",
        "\n",
        "stgnn_checkpoints = torch.load(stgnn_checkpoints_path)\n",
        "spatial_temporal_gnn.load_state_dict(stgnn_checkpoints['model_state_dict'])\n",
        "\n",
        "# Set the model in evaluation mode.\n",
        "spatial_temporal_gnn.eval();"
      ]
    },
    {
      "cell_type": "code",
      "execution_count": 8,
      "metadata": {
        "id": "V_2BKaDPKFqH"
      },
      "outputs": [],
      "source": [
        "from src.data.data_extraction import get_locations_dataframe\n",
        "\n",
        "# Get the dataframe containing the latitude and longitude of each sensor.\n",
        "locations_df = get_locations_dataframe(\n",
        "    os.path.join(BASE_DATA_DIR, 'raw', 'graph_sensor_locations_metr_la.csv'),\n",
        "    has_header=True)"
      ]
    },
    {
      "cell_type": "code",
      "execution_count": 9,
      "metadata": {
        "id": "eiWj_ujNKFqI"
      },
      "outputs": [],
      "source": [
        "# Get the node positions dictionary.\n",
        "node_pos_dict = { i: id for id, i in node_ids_dict.items() }"
      ]
    },
    {
      "cell_type": "code",
      "execution_count": 10,
      "metadata": {
        "id": "ioKQfKUrKFqI"
      },
      "outputs": [],
      "source": [
        "import os\n",
        "import numpy as np\n",
        "from src.spatial_temporal_gnn.prediction import predict\n",
        "\n",
        "# Get the data and the values predicted by the STGNN.\n",
        "x_train = np.load(os.path.join(BASE_DATA_DIR, 'processed', 'x_train.npy'))\n",
        "y_train = np.load(os.path.join(BASE_DATA_DIR, 'processed', 'y_train.npy'))\n",
        "x_val = np.load(os.path.join(BASE_DATA_DIR, 'processed', 'x_val.npy'))\n",
        "y_val = np.load(os.path.join(BASE_DATA_DIR, 'processed', 'y_val.npy'))\n",
        "x_test = np.load(os.path.join(BASE_DATA_DIR, 'processed', 'x_test.npy'))\n",
        "y_test = np.load(os.path.join(BASE_DATA_DIR, 'processed', 'y_test.npy'))"
      ]
    },
    {
      "cell_type": "code",
      "execution_count": 11,
      "metadata": {},
      "outputs": [],
      "source": [
        "from src.data.dataloaders import get_dataloader\n",
        "\n",
        "train_dataloader = get_dataloader(x_train, y_train, batch_size=64,\n",
        "                                  shuffle=True)\n",
        "val_dataloader = get_dataloader(x_val, y_val, batch_size=64,\n",
        "                                shuffle=False)\n",
        "test_dataloader = get_dataloader(x_test, y_test, batch_size=64,\n",
        "                                 shuffle=False)"
      ]
    },
    {
      "cell_type": "markdown",
      "metadata": {},
      "source": [
        "# 2 Predictions\n",
        "In this section the predictions of the STGNN are performed considering different event kinds."
      ]
    },
    {
      "cell_type": "code",
      "execution_count": 16,
      "metadata": {},
      "outputs": [],
      "source": [
        "from src.utils.config import CONGESTION_THRESHOLD_MPH, SEVERE_CONGESTION_THRESHOLD_MPH\n",
        "from typing import Tuple, Optional\n",
        "from src.data.data_processing import Scaler\n",
        "from src.spatial_temporal_gnn.metrics import MAE, RMSE, MAPE\n",
        "from torch.utils.data import DataLoader\n",
        "\n",
        "\n",
        "def validate(\n",
        "    model: SpatialTemporalGNN, val_dataloader: DataLoader, scaler: Scaler,\n",
        "    device: str\n",
        "    ) -> Tuple[float, float, float]:\n",
        "    \"\"\"\n",
        "    Calculate MAE, RMSE and MAPE scores for The Spatial-Temporal GNN\n",
        "    on the validation set.\n",
        "\n",
        "    Arguments\n",
        "    ---------\n",
        "    model : SpatialTemporalGNN\n",
        "        The spatial temporal graph neural network to be trained.\n",
        "    val_dataloader : DataLoader\n",
        "        The data loader for the validation set.\n",
        "    scaler : Scaler\n",
        "        The scaler used to scale the input and output data.\n",
        "    device : str\n",
        "        The device to run the model on.\n",
        "    n_timestamps_to_predict : int, optional\n",
        "        Number of timestamps to predict. If None, predict all\n",
        "        the timestamps. By default None.\n",
        "\n",
        "    Returns\n",
        "    -------\n",
        "    float\n",
        "        The average MAE score of the predictions on the\n",
        "        validation set.\n",
        "    float\n",
        "        The average RMSE score of the predictions on the\n",
        "        validation set.\n",
        "    float\n",
        "        The average MAPE score of the predictions on the\n",
        "        validation set.\n",
        "    \"\"\"\n",
        "    torch.cuda.empty_cache()\n",
        "\n",
        "    # Initialize the validation criterions.\n",
        "    mae_criterion = MAE()\n",
        "    rmse_criterion = RMSE()\n",
        "    mape_criterion = MAPE()\n",
        "\n",
        "    # Inizialize running errors.\n",
        "    running_val_mae_severe_congestions = 0.\n",
        "    running_val_mae_congestions = 0.\n",
        "    running_val_mae_free_flows = 0.\n",
        "    running_val_rmse_severe_congestions = 0.\n",
        "    running_val_rmse_congestions = 0.\n",
        "    running_val_rmse_free_flows = 0.\n",
        "    running_val_mape_severe_congestions = 0.\n",
        "    running_val_mape_congestions = 0.\n",
        "    running_val_mape_free_flows = 0.\n",
        "    \n",
        "    # Initialize counts.\n",
        "    severe_congestions_count = 0\n",
        "    congestions_count = 0\n",
        "    free_flows_count = 0\n",
        "\n",
        "    with torch.no_grad():\n",
        "        for _, (x, y) in enumerate(val_dataloader):\n",
        "            # Get the data.\n",
        "            x = x.type(torch.float32).to(device=device)\n",
        "            y = y.type(torch.float32).to(device=device)\n",
        "            \n",
        "            y_severe_congestions = y.clone()\n",
        "            y_severe_congestions[(y > SEVERE_CONGESTION_THRESHOLD_MPH)] = 0.\n",
        "            y_congestions = y.clone()\n",
        "            y_congestions[(y <= SEVERE_CONGESTION_THRESHOLD_MPH) | (y > CONGESTION_THRESHOLD_MPH)] = 0.\n",
        "            y_free_flows = y.clone()\n",
        "            y_free_flows[y <= CONGESTION_THRESHOLD_MPH] = 0.\n",
        "            \n",
        "            #print(y_severe_congestions.shape)\n",
        "            #print(y_congestions.shape)\n",
        "            #print(y_free_flows.shape)\n",
        "\n",
        "            # Scale the input data.\n",
        "            x = scaler.scale(x)\n",
        "\n",
        "            # Compute the output.\n",
        "            y_pred = model(x)\n",
        "\n",
        "            # Un-scale the predictions.\n",
        "            y_pred = scaler.un_scale(y_pred)\n",
        "\n",
        "            # Get the prediction errors and update the running errors.\n",
        "            if len(y_severe_congestions[y_severe_congestions > 0]) > 0:\n",
        "                severe_congestions_count += 1\n",
        "                mae_severe_congestion = mae_criterion(y_pred, y_severe_congestions)\n",
        "                rmse_severe_congestion = rmse_criterion(y_pred, y_severe_congestions)\n",
        "                mape_severe_congestion = mape_criterion(y_pred, y_severe_congestions)\n",
        "                \n",
        "                running_val_mae_severe_congestions += mae_severe_congestion.item()\n",
        "                running_val_rmse_severe_congestions += rmse_severe_congestion.item()\n",
        "                running_val_mape_severe_congestions += mape_severe_congestion.item()\n",
        "\n",
        "            if len(y_congestions[y_congestions > 0]) > 0:\n",
        "                congestions_count += 1\n",
        "                mae_congestions = mae_criterion(y_pred, y_congestions)\n",
        "                rmse_congestions = rmse_criterion(y_pred, y_congestions)\n",
        "                mape_congestions = mape_criterion(y_pred, y_congestions)\n",
        "                \n",
        "                running_val_mae_congestions += mae_congestions.item()\n",
        "                running_val_rmse_congestions += rmse_congestions.item()\n",
        "                running_val_mape_congestions += mape_congestions.item()\n",
        "\n",
        "            if len(y_free_flows[y_free_flows > 0]) > 0:\n",
        "                free_flows_count += 1\n",
        "                mae_free_flows = mae_criterion(y_pred, y_free_flows)\n",
        "                rmse_free_flows = rmse_criterion(y_pred, y_free_flows)\n",
        "                mape_free_flows = mape_criterion(y_pred, y_free_flows)\n",
        "            \n",
        "                running_val_mae_free_flows += mae_free_flows.item()\n",
        "                running_val_rmse_free_flows += rmse_free_flows.item()\n",
        "                running_val_mape_free_flows += mape_free_flows.item()\n",
        "\n",
        "    # Remove unused tensors from gpu memory.\n",
        "    torch.cuda.empty_cache()\n",
        "\n",
        "    return (running_val_mae_severe_congestions / severe_congestions_count, \\\n",
        "           running_val_mae_congestions / congestions_count, \\\n",
        "           running_val_mae_free_flows / free_flows_count), \\\n",
        "           (running_val_rmse_severe_congestions / severe_congestions_count, \\\n",
        "           running_val_rmse_congestions / congestions_count, \\\n",
        "           running_val_rmse_free_flows / free_flows_count), \\\n",
        "           (running_val_mape_severe_congestions / severe_congestions_count, \\\n",
        "           running_val_mape_congestions / congestions_count, \\\n",
        "           running_val_mape_free_flows / free_flows_count)\n",
        "                  "
      ]
    },
    {
      "cell_type": "code",
      "execution_count": 17,
      "metadata": {},
      "outputs": [
        {
          "name": "stdout",
          "output_type": "stream",
          "text": [
            "Results on the test set on severe congestions: MAE 12.2 - RMSE 17.9 - MAPE 65.1 %\n",
            "Results on the test set on congestions: MAE 5.21 - RMSE 7.73 - MAPE 10.6 %\n",
            "Results on the test set on free-flows: MAE 1.96 - RMSE 4.16 - MAPE 3.02 %\n"
          ]
        }
      ],
      "source": [
        "mae, rmse, mape = validate(\n",
        "    spatial_temporal_gnn, test_dataloader, scaler,\n",
        "    DEVICE)\n",
        "\n",
        "print('Results on the test set on severe congestions:',\n",
        "      f'MAE {mae[0]:.3g} - RMSE {rmse[0]:.3g}',\n",
        "      f'- MAPE {mape[0] * 100.:.3g} %')\n",
        "\n",
        "print('Results on the test set on congestions:',\n",
        "      f'MAE {mae[1]:.3g} - RMSE {rmse[1]:.3g}',\n",
        "      f'- MAPE {mape[1] * 100.:.3g} %')\n",
        "\n",
        "print('Results on the test set on free-flows:',\n",
        "      f'MAE {mae[2]:.3g} - RMSE {rmse[2]:.3g}',\n",
        "      f'- MAPE {mape[2] * 100.:.3g} %')\n"
      ]
    }
  ],
  "metadata": {
    "accelerator": "GPU",
    "colab": {
      "gpuType": "T4",
      "provenance": []
    },
    "kernelspec": {
      "display_name": "Python 3",
      "name": "python3"
    },
    "language_info": {
      "codemirror_mode": {
        "name": "ipython",
        "version": 3
      },
      "file_extension": ".py",
      "mimetype": "text/x-python",
      "name": "python",
      "nbconvert_exporter": "python",
      "pygments_lexer": "ipython3",
      "version": "3.10.0"
    },
    "orig_nbformat": 4
  },
  "nbformat": 4,
  "nbformat_minor": 0
}
